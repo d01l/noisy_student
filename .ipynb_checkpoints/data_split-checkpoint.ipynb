{
 "cells": [
  {
   "cell_type": "code",
   "execution_count": null,
   "metadata": {},
   "outputs": [],
   "source": [
    "from torchvision.datasets import cifar"
   ]
  },
  {
   "cell_type": "code",
   "execution_count": null,
   "metadata": {},
   "outputs": [],
   "source": [
    "cifar.CIFAR10('data', download=True)"
   ]
  },
  {
   "cell_type": "code",
   "execution_count": null,
   "metadata": {},
   "outputs": [],
   "source": [
    "import pickle as pk\n",
    "import numpy as np"
   ]
  },
  {
   "cell_type": "code",
   "execution_count": null,
   "metadata": {},
   "outputs": [],
   "source": [
    "data = {'data': [], 'labels': []}\n",
    "with open('data/cifar-10-batches-py/data_batch_1', 'rb') as file:\n",
    "    tmp = pk.load(file, encoding='latin1')\n",
    "    data['data'].extend(tmp['data'])\n",
    "    data['labels'].extend(tmp['labels'])\n",
    "with open('data/cifar-10-batches-py/data_batch_2', 'rb') as file:\n",
    "    tmp = pk.load(file, encoding='latin1')\n",
    "    data['data'].extend(tmp['data'])\n",
    "    data['labels'].extend(tmp['labels'])\n",
    "with open('data/cifar-10-batches-py/data_batch_3', 'rb') as file:\n",
    "    tmp = pk.load(file, encoding='latin1')\n",
    "    data['data'].extend(tmp['data'])\n",
    "    data['labels'].extend(tmp['labels'])\n",
    "with open('data/cifar-10-batches-py/data_batch_4', 'rb') as file:\n",
    "    tmp = pk.load(file, encoding='latin1')\n",
    "    data['data'].extend(tmp['data'])\n",
    "    data['labels'].extend(tmp['labels'])\n",
    "with open('data/cifar-10-batches-py/data_batch_5', 'rb') as file:\n",
    "    tmp = pk.load(file, encoding='latin1')\n",
    "    data['data'].extend(tmp['data'])\n",
    "    data['labels'].extend(tmp['labels'])"
   ]
  },
  {
   "cell_type": "code",
   "execution_count": null,
   "metadata": {},
   "outputs": [],
   "source": [
    "len(data['data'])"
   ]
  },
  {
   "cell_type": "code",
   "execution_count": null,
   "metadata": {},
   "outputs": [],
   "source": [
    "c = {}\n",
    "for i in range(len(data['data'])):\n",
    "    value = c.get(data['labels'][i], [])\n",
    "    value.append(data['data'][i])\n",
    "    if len(value) == 1:\n",
    "        c[data['labels'][i]] = value"
   ]
  },
  {
   "cell_type": "code",
   "execution_count": null,
   "metadata": {},
   "outputs": [],
   "source": [
    "import random"
   ]
  },
  {
   "cell_type": "code",
   "execution_count": null,
   "metadata": {},
   "outputs": [],
   "source": [
    "for key, value in c.items():\n",
    "    random.shuffle(value)"
   ]
  },
  {
   "cell_type": "code",
   "execution_count": null,
   "metadata": {},
   "outputs": [],
   "source": [
    "labeled = {'data': [], 'labels': []}\n",
    "unlabeled = {'data': [], 'labels': []}\n",
    "for key, value in c.items():\n",
    "    for i in range(len(value)):\n",
    "        if i < 500:\n",
    "            labeled['data'].append((value[i].reshape(3, 32, 32).transpose(1, 2, 0)))\n",
    "            labeled['labels'].append(key)\n",
    "        else:\n",
    "            unlabeled['data'].append((value[i].reshape(3, 32, 32).transpose(1, 2, 0)))\n",
    "            unlabeled['labels'].append(key)"
   ]
  },
  {
   "cell_type": "code",
   "execution_count": null,
   "metadata": {},
   "outputs": [],
   "source": [
    "k = labeled['data'][8]"
   ]
  },
  {
   "cell_type": "code",
   "execution_count": null,
   "metadata": {},
   "outputs": [],
   "source": [
    "import matplotlib.pyplot as plt"
   ]
  },
  {
   "cell_type": "code",
   "execution_count": null,
   "metadata": {},
   "outputs": [],
   "source": [
    "plt.imshow(k)"
   ]
  },
  {
   "cell_type": "code",
   "execution_count": null,
   "metadata": {},
   "outputs": [],
   "source": [
    "import pickle as pk\n",
    "with open('data/cifar10/labeled.pk', 'wb') as file:\n",
    "    pk.dump(labeled, file)\n",
    "with open('data/cifar10/unlabeled.pk', 'wb') as file:\n",
    "    pk.dump(unlabeled, file)"
   ]
  },
  {
   "cell_type": "code",
   "execution_count": null,
   "metadata": {},
   "outputs": [],
   "source": [
    "test_data = {'data': [], 'labels': []}\n",
    "with open('data/cifar-10-batches-py/test_batch', 'rb') as file:\n",
    "    tmp = pk.load(file, encoding='latin1')\n",
    "    test_data['data'].extend(tmp['data'])\n",
    "    test_data['labels'].extend(tmp['labels'])"
   ]
  },
  {
   "cell_type": "code",
   "execution_count": null,
   "metadata": {},
   "outputs": [],
   "source": [
    "for i in range(len(test_data['data'])):\n",
    "    image = test_data['data'][i].reshape(3, 32, 32).transpose(1, 2, 0)\n",
    "    test_data['data'][i] = image"
   ]
  },
  {
   "cell_type": "code",
   "execution_count": null,
   "metadata": {},
   "outputs": [],
   "source": [
    "with open('data/cifar10/test.pk', 'wb') as file:\n",
    "    pk.dump(test_data, file)"
   ]
  },
  {
   "cell_type": "code",
   "execution_count": null,
   "metadata": {},
   "outputs": [],
   "source": [
    "plt.imshow(test_data['data'][4])"
   ]
  }
 ],
 "metadata": {
  "kernelspec": {
   "display_name": "Python 3",
   "language": "python",
   "name": "python3"
  },
  "language_info": {
   "codemirror_mode": {
    "name": "ipython",
    "version": 3
   },
   "file_extension": ".py",
   "mimetype": "text/x-python",
   "name": "python",
   "nbconvert_exporter": "python",
   "pygments_lexer": "ipython3",
   "version": "3.7.5"
  }
 },
 "nbformat": 4,
 "nbformat_minor": 4
}
