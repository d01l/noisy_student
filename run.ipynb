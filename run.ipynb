{
 "cells": [
  {
   "cell_type": "markdown",
   "metadata": {},
   "source": [
    "# Noisy student with cifar10"
   ]
  },
  {
   "cell_type": "code",
   "execution_count": null,
   "metadata": {},
   "outputs": [],
   "source": [
    "import torch\n",
    "import torch.nn as nn\n",
    "import torch.optim as optim\n",
    "from torch.utils.data import DataLoader\n",
    "from torch.utils.tensorboard import SummaryWriter\n",
    "\n",
    "from datasets.cifar_datasets import LabeledCifar10, UnlabeledCifar10, PseudoLabeledCifar10\n",
    "from randaugment import Rand_Augment\n",
    "\n",
    "from train import train_model\n",
    "from models import convnet5, convnet6, resnet6, resnet9, make_models\n",
    "from criterion import cross_entropy_with_soft_target\n",
    "import os"
   ]
  },
  {
   "cell_type": "code",
   "execution_count": null,
   "metadata": {},
   "outputs": [],
   "source": [
    "if os.path.exists('checkpoint'):\n",
    "    os.makedirs('checkpoint')\n",
    "if os.path.exists('checkpoint/teacher-student-hard'):\n",
    "    os.makedirs('checkpoint/teacher-student-hard')\n",
    "if os.path.exists('checkpoint/teacher-student-soft'):\n",
    "    os.makedirs('checkpoint/teacher-student-soft')"
   ]
  },
  {
   "cell_type": "markdown",
   "metadata": {},
   "source": [
    "## Hyperparameters"
   ]
  },
  {
   "cell_type": "code",
   "execution_count": null,
   "metadata": {},
   "outputs": [],
   "source": [
    "learning_rate = 1e-3\n",
    "weight_decay = 1e-3\n",
    "max_epoch = 1000\n",
    "batch_size = 100\n",
    "train_labeled_file = 'data/cifar10/labeled.pk'\n",
    "train_unlabeled_file = 'data/cifar10/unlabeled.pk'\n",
    "test_file = 'data/cifar10/test.pk'\n",
    "device = 'cuda:0'"
   ]
  },
  {
   "cell_type": "code",
   "execution_count": null,
   "metadata": {},
   "outputs": [],
   "source": [
    "model_names = ['convnet5', 'convnet6', 'resnet6', 'resnet9']\n",
    "criterion = nn.CrossEntropyLoss()"
   ]
  },
  {
   "cell_type": "code",
   "execution_count": null,
   "metadata": {},
   "outputs": [],
   "source": [
    "models = make_models()"
   ]
  },
  {
   "cell_type": "code",
   "execution_count": null,
   "metadata": {},
   "outputs": [],
   "source": [
    "for i, model in enumerate(models):\n",
    "    parameters_num = sum([parameter.numel() for parameter in model.parameters()])\n",
    "    print('{}: {}'.format(model_names[i], parameters_num))"
   ]
  },
  {
   "cell_type": "markdown",
   "metadata": {},
   "source": [
    "## Search Rand augment parameter"
   ]
  },
  {
   "cell_type": "code",
   "execution_count": null,
   "metadata": {},
   "outputs": [],
   "source": [
    "#augmentations = [Rand_Augment(3, 4), Rand_Augment(3, 5), Rand_Augment(5, 7), Rand_Augment(6, 9)]\n",
    "#augmentations = [Rand_Augment(2, 9), Rand_Augment(2, 10), Rand_Augment(3, 9), Rand_Augment(3, 10)]\n",
    "#augmentations = [Rand_Augment(3, 10), Rand_Augment(4, 10), Rand_Augment(5, 10), Rand_Augment(6, 10)]\n",
    "augmentations = [Rand_Augment(5, 10), Rand_Augment(6, 10), Rand_Augment(7, 10), Rand_Augment(8, 10)]"
   ]
  },
  {
   "cell_type": "code",
   "execution_count": null,
   "metadata": {},
   "outputs": [],
   "source": [
    "test_dataloader = DataLoader(LabeledCifar10(test_file), batch_size=batch_size, num_workers=2)\n",
    "for aug in augmentations:\n",
    "    labeled_dataloader = DataLoader(LabeledCifar10(train_labeled_file, transforms=aug), batch_size=batch_size, shuffle=True, num_workers=3)\n",
    "    model = resnet25()\n",
    "    train_model(model, labeled_dataloader, test_dataloader, criterion, optim.SGD(model.parameters(), learning_rate, momentum=0.9, weight_decay=weight_decay), device, max_epoch)"
   ]
  },
  {
   "cell_type": "markdown",
   "metadata": {},
   "source": [
    "## Baseline"
   ]
  },
  {
   "cell_type": "code",
   "execution_count": null,
   "metadata": {},
   "outputs": [],
   "source": [
    "test_dataloader = DataLoader(LabeledCifar10(test_file), batch_size=batch_size, num_workers=2)\n",
    "aug = Rand_Augment(5, 10)\n",
    "models = make_models()\n",
    "for i, model in enumerate(models):\n",
    "    labeled_dataloader = DataLoader(LabeledCifar10(train_unlabeled_file, transforms=aug, data_count=5000), batch_size=batch_size, shuffle=True, num_workers=2)\n",
    "    writer = SummaryWriter('logs/baseline/{}-{}'.format(model_names[i], 5000))\n",
    "    train_model(model, labeled_dataloader, test_dataloader, criterion, optim.SGD(model.parameters(), learning_rate, momentum=0.9, weight_decay=weight_decay), device, max_epoch, writer)\n",
    "    torch.save({'model_state_dict': model.state_dict()}, 'checkpoint/{}-{}'.format(model_names[i], 5000))"
   ]
  },
  {
   "cell_type": "markdown",
   "metadata": {},
   "source": [
    "## Noisy-Student"
   ]
  },
  {
   "cell_type": "markdown",
   "metadata": {},
   "source": [
    "#### Hard pseudolabels"
   ]
  },
  {
   "cell_type": "code",
   "execution_count": null,
   "metadata": {},
   "outputs": [],
   "source": [
    "criterion = nn.CrossEntropyLoss()\n",
    "augs = [Rand_Augment(5, 10), Rand_Augment(5, 10), Rand_Augment(5, 10), Rand_Augment(5, 10)]\n",
    "max_epoches = [1000, 1000, 1000, 1000]\n",
    "models = make_models()\n",
    "test_dataloader = DataLoader(LabeledCifar10(test_file), batch_size=batch_size, num_workers=2)\n",
    "labeled_dataloader = DataLoader(LabeledCifar10(train_labeled_file, transforms=augs[0]), batch_size=batch_size, shuffle=True, num_workers=2)\n",
    "for i in range(len(models)):\n",
    "    writer = SummaryWriter('logs/teacher-student-soft/{}'.format(model_names[i]))\n",
    "    if i == 0:\n",
    "        train_model(models[i], labeled_dataloader, test_dataloader, criterion, optim.SGD(models[i].parameters(), learning_rate, momentum=0.9, weight_decay=weight_decay), device, max_epoches[i], writer)\n",
    "    else:\n",
    "        pseudo_labeled_dataloader = DataLoader(PseudoLabeledCifar10(train_labeled_file, train_unlabeled_file, models[i - 1], device, augs[i], soft=False), batch_size, shuffle=True, num_workers=2)\n",
    "        train_model(models[i], pseudo_labeled_dataloader, test_dataloader, criterion, optim.SGD(models[i].parameters(), learning_rate, momentum=0.9, weight_decay=weight_decay), device, max_epoches[i], writer)\n",
    "    \n",
    "    torch.save({'model_state_dict': models[i].state_dict()}, 'checkpoint/teacher-student-soft/{}'.format(model_names[i]))"
   ]
  },
  {
   "cell_type": "markdown",
   "metadata": {},
   "source": [
    "#### Soft pseudolabels"
   ]
  },
  {
   "cell_type": "code",
   "execution_count": null,
   "metadata": {},
   "outputs": [],
   "source": [
    "augs = [Rand_Augment(5, 10), Rand_Augment(5, 10), Rand_Augment(5, 10), Rand_Augment(5, 10)]\n",
    "max_epoches = [1000, 1000, 1000, 1000] \n",
    "models = make_models()\n",
    "test_dataloader = DataLoader(LabeledCifar10(test_file), batch_size=batch_size, num_workers=2)\n",
    "labeled_dataloader = DataLoader(LabeledCifar10(train_labeled_file, transforms=augs[0]), batch_size=batch_size, shuffle=True, num_workers=2)\n",
    "for i in range(len(models)):\n",
    "    writer = SummaryWriter('logs/teacher-student-soft/{}'.format(model_names[i]))\n",
    "    if i == 0:\n",
    "        train_model(models[i], labeled_dataloader, test_dataloader, nn.CrossEntropyLoss(), optim.SGD(models[i].parameters(), learning_rate, momentum=0.9, weight_decay=weight_decay), device, max_epoches[i], writer)\n",
    "    else:\n",
    "        pseudo_labeled_dataloader = DataLoader(PseudoLabeledCifar10(train_labeled_file, train_unlabeled_file, models[i - 1], device, transforms=augs[i]), batch_size, shuffle=True, num_workers=2)\n",
    "        train_model(models[i], pseudo_labeled_dataloader, test_dataloader, cross_entropy_with_soft_target, optim.SGD(models[i].parameters(), learning_rate, momentum=0.9, weight_decay=weight_decay), device, max_epoches[i], writer)\n",
    "    \n",
    "    torch.save({'model_state_dict': models[i].state_dict()}, 'checkpoint/teacher-student-soft/{}'.format(model_names[i]))"
   ]
  },
  {
   "cell_type": "code",
   "execution_count": null,
   "metadata": {},
   "outputs": [],
   "source": [
    "data_counts = [5000, 6000, 7000, 8000, 9000, 10000, 11000, 20000, 30000, 40000]\n",
    "aug = Rand_Augment(5, 10)\n",
    "test_dataloader = DataLoader(LabeledCifar10(test_file), batch_size=batch_size, num_workers=2)\n",
    "for data_count in data_counts:\n",
    "    model = resnet9()\n",
    "    labeled_dataloader = DataLoader(LabeledCifar10(train_unlabeled_file, transforms=aug, data_count=data_count), batch_size=batch_size, shuffle=True, num_workers=2)\n",
    "    writer = SummaryWriter('logs/baseline/{}-{}'.format('resnet9', data_count))\n",
    "    train_model(model, labeled_dataloader, test_dataloader, criterion, optim.SGD(model.parameters(), learning_rate, momentum=0.9, weight_decay=weight_decay), device, max_epoch, writer)\n",
    "    torch.save({'model_state_dict': model.state_dict()}, 'checkpoint/{}-{}'.format('resnet9', data_count))"
   ]
  }
 ],
 "metadata": {
  "kernelspec": {
   "display_name": "Python 3",
   "language": "python",
   "name": "python3"
  },
  "language_info": {
   "codemirror_mode": {
    "name": "ipython",
    "version": 3
   },
   "file_extension": ".py",
   "mimetype": "text/x-python",
   "name": "python",
   "nbconvert_exporter": "python",
   "pygments_lexer": "ipython3",
   "version": "3.7.5"
  }
 },
 "nbformat": 4,
 "nbformat_minor": 4
}
